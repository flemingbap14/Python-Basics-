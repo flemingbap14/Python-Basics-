{
  "nbformat": 4,
  "nbformat_minor": 0,
  "metadata": {
    "colab": {
      "provenance": [],
      "toc_visible": true
    },
    "kernelspec": {
      "name": "python3",
      "display_name": "Python 3"
    },
    "language_info": {
      "name": "python"
    }
  },
  "cells": [
    {
      "cell_type": "markdown",
      "source": [
        "# Python Basics Questions"
      ],
      "metadata": {
        "id": "-dSxAwE2heYQ"
      }
    },
    {
      "cell_type": "markdown",
      "source": [
        "Q1. What is Python, and why is it popular?\n",
        "\n",
        "Ans: Python is a high-level, interpreted programming language known for its simplicity,readability, and extensive libraries. It is popular due to its versatlity, ease of learning, and strong\n",
        "community support.\n"
      ],
      "metadata": {
        "id": "VCCa6GkahyOp"
      }
    },
    {
      "cell_type": "markdown",
      "source": [
        "Q2. - What is an interpreter in Python?\n",
        "\n",
        "Ans: An interpreter is a program that executes Python code line by line, translatng it intomachine code and running it immediately"
      ],
      "metadata": {
        "id": "rGOKfBiRieIf"
      }
    },
    {
      "cell_type": "markdown",
      "source": [
        "Q3 - What are pre-defined keywords in Python?\n",
        "\n",
        "Ans: Keywords are reserved words in Python with specific meanings, such as if, else, True, and def.\n"
      ],
      "metadata": {
        "id": "dIumXykolDeD"
      }
    },
    {
      "cell_type": "markdown",
      "source": [
        "Q4 - Can keywords be used as variable names?\n",
        "\n",
        "Ans: No, keywords cannot be used as variable names since they have predefined meanings in Python."
      ],
      "metadata": {
        "id": "Vm-wvQCFlOyP"
      }
    },
    {
      "cell_type": "markdown",
      "source": [
        "Q5 - What is mutability in Python?\n",
        "\n",
        "Ans: Mutability refers to an object’s ability to be changed aGer its crea>on. Mutable objects,like lists, can be modified, while immutable objects, like tuples, cannot."
      ],
      "metadata": {
        "id": "A-b0C5dqlS9m"
      }
    },
    {
      "cell_type": "markdown",
      "source": [
        "Q6 - Why are lists mutable, but tuples are immutable?\n",
        "\n",
        "Ans: Lists are mutable to allow modifica>ons like adding, removing, or upda>ng elements.Tuples are immutable to ensure data integrity and to op>mize performance when immutability is needed."
      ],
      "metadata": {
        "id": "NYCdWRoUlX-t"
      }
    },
    {
      "cell_type": "markdown",
      "source": [
        "Q7 - What is the difference between == and is operators in Python?\n",
        "\n",
        "Ans: == checks for value equality.is checks for object iden>ty (whether two references point to the same object in memory)."
      ],
      "metadata": {
        "id": "JhFlfSgjlbS9"
      }
    },
    {
      "cell_type": "markdown",
      "source": [
        "Q8 - What are logical operators in Python?\n",
        "\n",
        "Ans: Logical operators are used to perform logical opera>ons: and: Returns True if both operands are true. or: Returns True if at least one operand is true. not: Reverses the logical state of the operand."
      ],
      "metadata": {
        "id": "hfM05lmyleMX"
      }
    },
    {
      "cell_type": "markdown",
      "source": [
        "Q9 - What is type casLng in Python?\n",
        "\n",
        "Ans: Type cas>ng is conver>ng one data type to another."
      ],
      "metadata": {
        "id": "yJzLgOztlg8n"
      }
    },
    {
      "cell_type": "markdown",
      "source": [
        "Q10 - What is the difference between implicit and explicit type cas>ng?\n",
        "\n",
        "Ans: Implicit: Python automa>cally converts one data type to another. Explicit: The programmer manually converts the data type using func>ons like int(),float(), or str()."
      ],
      "metadata": {
        "id": "W3rqPIM2lklN"
      }
    },
    {
      "cell_type": "markdown",
      "source": [
        "Q11 - What is the purpose of condi>onal statements in Python?\n",
        "\n",
        "Ans: Condi>onal statements control the flow of execu>on based on condi>ons (if, elif, else)."
      ],
      "metadata": {
        "id": "aAOGD69vloM9"
      }
    },
    {
      "cell_type": "markdown",
      "source": [
        "Q12 - How does the elif statement work?\n",
        "\n",
        "Ans: The elif statement checks addi>onal condi>ons if the previous if condi>on is false.\n"
      ],
      "metadata": {
        "id": "V8xuMO-elsMa"
      }
    },
    {
      "cell_type": "markdown",
      "source": [
        "Q13 - What is the difference between for and while loops?\n",
        "\n",
        "Ans:for loop: Iterates over a sequence (like a list or range). while loop: Repeats as long as a condi>on is true."
      ],
      "metadata": {
        "id": "u9R0rAjqlwXE"
      }
    },
    {
      "cell_type": "markdown",
      "source": [
        "Q14 - Describe a scenario where a while loop is more suitable than a for loop.\n",
        "\n",
        "Ans:A while loop is suitable when the number of itera>ons is unknown and depends on a condi>on, like reading user input un>l a valid response is received."
      ],
      "metadata": {
        "id": "ue0yAxn7ly6S"
      }
    },
    {
      "cell_type": "markdown",
      "source": [
        "\n",
        "\n",
        "#Practical Questions"
      ],
      "metadata": {
        "id": "MiaTyVoSl9CO"
      }
    },
    {
      "cell_type": "code",
      "source": [
        "# Write a Python program to print \"Hello,World!\"\n",
        "print(\"HelloWorld!\")"
      ],
      "metadata": {
        "colab": {
          "base_uri": "https://localhost:8080/"
        },
        "id": "nvtvhrXJmFCk",
        "outputId": "256425aa-42cc-4178-cd58-a62117829a4f"
      },
      "execution_count": 6,
      "outputs": [
        {
          "output_type": "stream",
          "name": "stdout",
          "text": [
            "HelloWorld!\n"
          ]
        }
      ]
    },
    {
      "cell_type": "code",
      "source": [
        "#Write a Python program that displays your name and age.\n",
        "name = \"Fleming\"\n",
        "age = 25\n",
        "print(f\"My name is {name} and I am {age} years old.\")"
      ],
      "metadata": {
        "colab": {
          "base_uri": "https://localhost:8080/"
        },
        "id": "xE93W8yKmYfS",
        "outputId": "e7badfd7-90ad-4ef4-df2c-cfcb157c56c7"
      },
      "execution_count": 7,
      "outputs": [
        {
          "output_type": "stream",
          "name": "stdout",
          "text": [
            "My name is Fleming and I am 25 years old.\n"
          ]
        }
      ]
    },
    {
      "cell_type": "code",
      "source": [
        "#Write code to print all the pre-defined keywords in Python using the keyword library.\n",
        "import keyword\n",
        "print(keyword.kwlist)"
      ],
      "metadata": {
        "colab": {
          "base_uri": "https://localhost:8080/"
        },
        "id": "ZCnfAsesnuHV",
        "outputId": "e154a157-31c1-4bfa-8c6d-92d53cdef38b"
      },
      "execution_count": 13,
      "outputs": [
        {
          "output_type": "stream",
          "name": "stdout",
          "text": [
            "['False', 'None', 'True', 'and', 'as', 'assert', 'async', 'await', 'break', 'class', 'continue', 'def', 'del', 'elif', 'else', 'except', 'finally', 'for', 'from', 'global', 'if', 'import', 'in', 'is', 'lambda', 'nonlocal', 'not', 'or', 'pass', 'raise', 'return', 'try', 'while', 'with', 'yield']\n"
          ]
        }
      ]
    },
    {
      "cell_type": "code",
      "source": [
        "#Write a program that checks if a given word is a Python keyword.\n",
        "\n",
        "import keyword\n",
        "word = input(\"Enter a word: \")\n",
        "if keyword.iskeyword(word):\n",
        " print(f\"'{word}' is a Python keyword.\")\n",
        "else:\n",
        " print(f\"'{word}' is not a Python keyword.\")"
      ],
      "metadata": {
        "colab": {
          "base_uri": "https://localhost:8080/"
        },
        "id": "RJ1SEvy_oFnq",
        "outputId": "8fba4788-176e-4ed5-81f6-b1a77cbc257b"
      },
      "execution_count": 14,
      "outputs": [
        {
          "output_type": "stream",
          "name": "stdout",
          "text": [
            "Enter a word: True\n",
            "'True' is a Python keyword.\n"
          ]
        }
      ]
    },
    {
      "cell_type": "code",
      "source": [
        "#Create a list and a tuple in Python, and demonstrate how a`emp>ng to change an\n",
        "#element works differently for each.\n",
        "\n",
        "# List\n",
        "my_list = [1, 2, 3]\n",
        "my_list[0] = 10 # This works\n",
        "print(\"Modified list:\", my_list)\n",
        "\n",
        "# Tuple\n",
        "my_tuple = (1, 2, 3)\n",
        "try:\n",
        " my_tuple[0] = 10 # This raises an error\n",
        "except TypeError as e:\n",
        " print(\"Error:\", e)"
      ],
      "metadata": {
        "id": "hIVpB6vmo3LX"
      },
      "execution_count": null,
      "outputs": []
    },
    {
      "cell_type": "code",
      "source": [
        "#Write a func>on to demonstrate the behavior of mutable and immutable arguments.\n",
        "\n",
        "def modify_elements(mutable, immutable):\n",
        " mutable.append(10) # Modifies the list (mutable)\n",
        " immutable += 10 # Does not modify the integer (immutable)\n",
        " print(\"Inside func>on:\", mutable, immutable)\n",
        "my_list = [1, 2, 3]\n",
        "my_int = 5\n",
        "modify_elements(my_list, my_int)\n",
        "print(\"Outside func>on:\", my_list, my_int)"
      ],
      "metadata": {
        "colab": {
          "base_uri": "https://localhost:8080/"
        },
        "id": "wZ4JTgLupOMc",
        "outputId": "4416dc8f-e547-406b-a6ab-e57fae73caec"
      },
      "execution_count": 16,
      "outputs": [
        {
          "output_type": "stream",
          "name": "stdout",
          "text": [
            "Inside func>on: [1, 2, 3, 10] 15\n",
            "Outside func>on: [1, 2, 3, 10] 5\n"
          ]
        }
      ]
    },
    {
      "cell_type": "code",
      "source": [
        "#Write a program to demonstrate the use of logical operators.\n",
        "\n",
        "a, b = 10, 20\n",
        "print(a > 5 and b > 15) # True\n",
        "print(a > 15 or b > 15) # True\n",
        "print(not(a > 15)) # True\n"
      ],
      "metadata": {
        "colab": {
          "base_uri": "https://localhost:8080/"
        },
        "id": "IdDoO-VHpv03",
        "outputId": "245f601b-840d-4d57-e95a-b2245d2e3202"
      },
      "execution_count": 17,
      "outputs": [
        {
          "output_type": "stream",
          "name": "stdout",
          "text": [
            "True\n",
            "True\n",
            "True\n"
          ]
        }
      ]
    },
    {
      "cell_type": "code",
      "source": [
        "#Write a Python program to convert user input from string to integer, float, and boolean types.\n",
        "\n",
        "user_input = input(\"Enter a value: \")\n",
        "int_value = int(user_input)\n",
        "float_value = float(user_input)\n",
        "bool_value = bool(int(user_input)) # Converts to boolean (0 is False, others are True)\n",
        "print(\"Integer:\", int_value)\n",
        "print(\"Float:\", float_value)\n",
        "print(\"Boolean:\", bool_value)\n",
        "\n"
      ],
      "metadata": {
        "colab": {
          "base_uri": "https://localhost:8080/"
        },
        "id": "Tw6n8M-mp-K3",
        "outputId": "fc8a5958-66dd-4220-b4a4-cd4442ed08aa"
      },
      "execution_count": 18,
      "outputs": [
        {
          "output_type": "stream",
          "name": "stdout",
          "text": [
            "Enter a value: 2\n",
            "Integer: 2\n",
            "Float: 2.0\n",
            "Boolean: True\n"
          ]
        }
      ]
    },
    {
      "cell_type": "code",
      "source": [
        "# Write code to demonstrate type cas>ng with list elements.\n",
        "\n",
        "str_list = ['1', '2', '3']\n",
        "int_list = [int(i) for i in str_list]\n",
        "print(\"String list:\", str_list)\n",
        "print(\"Integer list:\", int_list)\n",
        "\n"
      ],
      "metadata": {
        "colab": {
          "base_uri": "https://localhost:8080/"
        },
        "id": "UdahfLn2qTwy",
        "outputId": "1a25882c-6e90-4fbb-f8ce-6b2785f0b0bb"
      },
      "execution_count": 20,
      "outputs": [
        {
          "output_type": "stream",
          "name": "stdout",
          "text": [
            "String list: ['1', '2', '3']\n",
            "Integer list: [1, 2, 3]\n"
          ]
        }
      ]
    },
    {
      "cell_type": "code",
      "source": [
        "#Write a program that checks if a number is posi>ve, nega>ve, or zero.\n",
        "\n",
        "num = int(input(\"Enter a number: \"))\n",
        "if num > 0:\n",
        " print(\"Posi>ve number\")\n",
        "elif num < 0:\n",
        " print(\"Nega>ve number\")\n",
        "else:\n",
        " print(\"Zero\")"
      ],
      "metadata": {
        "colab": {
          "base_uri": "https://localhost:8080/"
        },
        "id": "BLzx_AK5qpa5",
        "outputId": "05ea5bd8-d5e4-4bd9-fefe-25030dbca14f"
      },
      "execution_count": 21,
      "outputs": [
        {
          "output_type": "stream",
          "name": "stdout",
          "text": [
            "Enter a number: 2\n",
            "Posi>ve number\n"
          ]
        }
      ]
    },
    {
      "cell_type": "code",
      "source": [
        "#Write a for loop to print numbers from 1 to 10.\n",
        "\n",
        "for i in range(1, 11):\n",
        " print(i)"
      ],
      "metadata": {
        "colab": {
          "base_uri": "https://localhost:8080/"
        },
        "id": "PEE4yCcFq2hg",
        "outputId": "3250a17e-9b6b-4ff3-e2fb-7ed5cf97c004"
      },
      "execution_count": 22,
      "outputs": [
        {
          "output_type": "stream",
          "name": "stdout",
          "text": [
            "1\n",
            "2\n",
            "3\n",
            "4\n",
            "5\n",
            "6\n",
            "7\n",
            "8\n",
            "9\n",
            "10\n"
          ]
        }
      ]
    },
    {
      "cell_type": "code",
      "source": [
        "#Write a Python program to find the sum of all even numbers between 1 and 50.\n",
        "\n",
        "even_sum = sum(i for i in range(1, 51) if i % 2 == 0)\n",
        "print(\"Sum of even numbers:\", even_sum)"
      ],
      "metadata": {
        "colab": {
          "base_uri": "https://localhost:8080/"
        },
        "id": "cF3vrV1NrmG8",
        "outputId": "d72bea00-46d7-476b-c04b-c438906485df"
      },
      "execution_count": 23,
      "outputs": [
        {
          "output_type": "stream",
          "name": "stdout",
          "text": [
            "Sum of even numbers: 650\n"
          ]
        }
      ]
    },
    {
      "cell_type": "code",
      "source": [
        "#Write a program to reverse a string using a while loop.\n",
        "\n",
        "string = input(\"Enter a string: \")\n",
        "reversed_string = \"\"\n",
        "index = len(string) - 1\n",
        "while index >= 0:\n",
        " reversed_string += string[index]\n",
        " index -= 1\n",
        "print(\"Reversed string:\", reversed_string)"
      ],
      "metadata": {
        "id": "ExwYcUx3rz68"
      },
      "execution_count": null,
      "outputs": []
    },
    {
      "cell_type": "code",
      "source": [
        "#Write a Python program to calculate the factorial of a number provided by the user using a while loop.\n",
        "\n",
        "num = int(input(\"Enter a number: \"))\n",
        "factorial = 1\n",
        "while num > 1:\n",
        " factorial *= num\n",
        " num -= 1\n",
        "print(\"Factorial:\")"
      ],
      "metadata": {
        "id": "dzL-cqDdr8C0"
      },
      "execution_count": null,
      "outputs": []
    },
    {
      "cell_type": "code",
      "source": [],
      "metadata": {
        "id": "XZmw8GwhsIKe"
      },
      "execution_count": null,
      "outputs": []
    }
  ]
}